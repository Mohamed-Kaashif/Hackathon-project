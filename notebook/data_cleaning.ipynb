import pandas as pd
import numpy as np

# Load dataset
df = pd.read_csv("Dataset.csv")

# Quick look
print(df.shape)
print(df.info())
print(df.head())
